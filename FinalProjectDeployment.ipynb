{
  "nbformat": 4,
  "nbformat_minor": 0,
  "metadata": {
    "colab": {
      "provenance": []
    },
    "kernelspec": {
      "name": "python3",
      "display_name": "Python 3"
    },
    "language_info": {
      "name": "python"
    }
  },
  "cells": [
    {
      "cell_type": "code",
      "execution_count": 3,
      "metadata": {
        "colab": {
          "base_uri": "https://localhost:8080/"
        },
        "id": "_0g6gF9d0AZi",
        "outputId": "bfdf4360-820e-4af3-f880-3fd8801ffab2"
      },
      "outputs": [
        {
          "output_type": "stream",
          "name": "stdout",
          "text": [
            "Collecting flask-ngrok\n",
            "  Downloading flask_ngrok-0.0.25-py3-none-any.whl.metadata (1.8 kB)\n",
            "Collecting pyngrok\n",
            "  Downloading pyngrok-7.2.0-py3-none-any.whl.metadata (7.4 kB)\n",
            "Requirement already satisfied: Flask>=0.8 in /usr/local/lib/python3.10/dist-packages (from flask-ngrok) (2.2.5)\n",
            "Requirement already satisfied: requests in /usr/local/lib/python3.10/dist-packages (from flask-ngrok) (2.31.0)\n",
            "Requirement already satisfied: PyYAML>=5.1 in /usr/local/lib/python3.10/dist-packages (from pyngrok) (6.0.1)\n",
            "Requirement already satisfied: Werkzeug>=2.2.2 in /usr/local/lib/python3.10/dist-packages (from Flask>=0.8->flask-ngrok) (3.0.3)\n",
            "Requirement already satisfied: Jinja2>=3.0 in /usr/local/lib/python3.10/dist-packages (from Flask>=0.8->flask-ngrok) (3.1.4)\n",
            "Requirement already satisfied: itsdangerous>=2.0 in /usr/local/lib/python3.10/dist-packages (from Flask>=0.8->flask-ngrok) (2.2.0)\n",
            "Requirement already satisfied: click>=8.0 in /usr/local/lib/python3.10/dist-packages (from Flask>=0.8->flask-ngrok) (8.1.7)\n",
            "Requirement already satisfied: charset-normalizer<4,>=2 in /usr/local/lib/python3.10/dist-packages (from requests->flask-ngrok) (3.3.2)\n",
            "Requirement already satisfied: idna<4,>=2.5 in /usr/local/lib/python3.10/dist-packages (from requests->flask-ngrok) (3.7)\n",
            "Requirement already satisfied: urllib3<3,>=1.21.1 in /usr/local/lib/python3.10/dist-packages (from requests->flask-ngrok) (2.0.7)\n",
            "Requirement already satisfied: certifi>=2017.4.17 in /usr/local/lib/python3.10/dist-packages (from requests->flask-ngrok) (2024.7.4)\n",
            "Requirement already satisfied: MarkupSafe>=2.0 in /usr/local/lib/python3.10/dist-packages (from Jinja2>=3.0->Flask>=0.8->flask-ngrok) (2.1.5)\n",
            "Downloading flask_ngrok-0.0.25-py3-none-any.whl (3.1 kB)\n",
            "Downloading pyngrok-7.2.0-py3-none-any.whl (22 kB)\n",
            "Installing collected packages: pyngrok, flask-ngrok\n",
            "Successfully installed flask-ngrok-0.0.25 pyngrok-7.2.0\n",
            "Authtoken saved to configuration file: /root/.config/ngrok/ngrok.yml\n",
            "Authtoken saved to configuration file: /root/.config/ngrok/ngrok.yml\n",
            "Collecting flask-cors\n",
            "  Downloading Flask_Cors-4.0.1-py2.py3-none-any.whl.metadata (5.5 kB)\n",
            "Requirement already satisfied: Flask>=0.9 in /usr/local/lib/python3.10/dist-packages (from flask-cors) (2.2.5)\n",
            "Requirement already satisfied: Werkzeug>=2.2.2 in /usr/local/lib/python3.10/dist-packages (from Flask>=0.9->flask-cors) (3.0.3)\n",
            "Requirement already satisfied: Jinja2>=3.0 in /usr/local/lib/python3.10/dist-packages (from Flask>=0.9->flask-cors) (3.1.4)\n",
            "Requirement already satisfied: itsdangerous>=2.0 in /usr/local/lib/python3.10/dist-packages (from Flask>=0.9->flask-cors) (2.2.0)\n",
            "Requirement already satisfied: click>=8.0 in /usr/local/lib/python3.10/dist-packages (from Flask>=0.9->flask-cors) (8.1.7)\n",
            "Requirement already satisfied: MarkupSafe>=2.0 in /usr/local/lib/python3.10/dist-packages (from Jinja2>=3.0->Flask>=0.9->flask-cors) (2.1.5)\n",
            "Downloading Flask_Cors-4.0.1-py2.py3-none-any.whl (14 kB)\n",
            "Installing collected packages: flask-cors\n",
            "Successfully installed flask-cors-4.0.1\n",
            "Requirement already satisfied: pyngrok in /usr/local/lib/python3.10/dist-packages (7.2.0)\n",
            "Requirement already satisfied: flask-ngrok in /usr/local/lib/python3.10/dist-packages (0.0.25)\n",
            "Requirement already satisfied: PyYAML>=5.1 in /usr/local/lib/python3.10/dist-packages (from pyngrok) (6.0.1)\n",
            "Requirement already satisfied: Flask>=0.8 in /usr/local/lib/python3.10/dist-packages (from flask-ngrok) (2.2.5)\n",
            "Requirement already satisfied: requests in /usr/local/lib/python3.10/dist-packages (from flask-ngrok) (2.31.0)\n",
            "Requirement already satisfied: Werkzeug>=2.2.2 in /usr/local/lib/python3.10/dist-packages (from Flask>=0.8->flask-ngrok) (3.0.3)\n",
            "Requirement already satisfied: Jinja2>=3.0 in /usr/local/lib/python3.10/dist-packages (from Flask>=0.8->flask-ngrok) (3.1.4)\n",
            "Requirement already satisfied: itsdangerous>=2.0 in /usr/local/lib/python3.10/dist-packages (from Flask>=0.8->flask-ngrok) (2.2.0)\n",
            "Requirement already satisfied: click>=8.0 in /usr/local/lib/python3.10/dist-packages (from Flask>=0.8->flask-ngrok) (8.1.7)\n",
            "Requirement already satisfied: charset-normalizer<4,>=2 in /usr/local/lib/python3.10/dist-packages (from requests->flask-ngrok) (3.3.2)\n",
            "Requirement already satisfied: idna<4,>=2.5 in /usr/local/lib/python3.10/dist-packages (from requests->flask-ngrok) (3.7)\n",
            "Requirement already satisfied: urllib3<3,>=1.21.1 in /usr/local/lib/python3.10/dist-packages (from requests->flask-ngrok) (2.0.7)\n",
            "Requirement already satisfied: certifi>=2017.4.17 in /usr/local/lib/python3.10/dist-packages (from requests->flask-ngrok) (2024.7.4)\n",
            "Requirement already satisfied: MarkupSafe>=2.0 in /usr/local/lib/python3.10/dist-packages (from Jinja2>=3.0->Flask>=0.8->flask-ngrok) (2.1.5)\n",
            "Requirement already satisfied: requests in /usr/local/lib/python3.10/dist-packages (2.31.0)\n",
            "Requirement already satisfied: charset-normalizer<4,>=2 in /usr/local/lib/python3.10/dist-packages (from requests) (3.3.2)\n",
            "Requirement already satisfied: idna<4,>=2.5 in /usr/local/lib/python3.10/dist-packages (from requests) (3.7)\n",
            "Requirement already satisfied: urllib3<3,>=1.21.1 in /usr/local/lib/python3.10/dist-packages (from requests) (2.0.7)\n",
            "Requirement already satisfied: certifi>=2017.4.17 in /usr/local/lib/python3.10/dist-packages (from requests) (2024.7.4)\n"
          ]
        }
      ],
      "source": [
        "!pip install flask-ngrok pyngrok\n",
        "!ngrok authtoken 2jPvYS34ZllD1YvJmUA4rBQItRG_436Z1eM2nuB8aB173Fo8u  # You need to sign up for a free ngrok account to get a token\n",
        "!ngrok config add-authtoken 2jPvYS34ZllD1YvJmUA4rBQItRG_436Z1eM2nuB8aB173Fo8u\n",
        "!pip install flask-cors\n",
        "!pip install --upgrade pyngrok flask-ngrok\n",
        "!pip install requests"
      ]
    },
    {
      "cell_type": "code",
      "source": [
        "import numpy as np\n",
        "import requests\n",
        "import json\n",
        "from sklearn.preprocessing import OneHotEncoder\n",
        "from datetime import datetime\n",
        "from sklearn.preprocessing import StandardScaler\n",
        "\n",
        "def user_input_transformer(features):\n",
        "\n",
        "    # Separate numerical and categorical features\n",
        "    numerical_features = [\n",
        "        features['package_weight(Kg)'],#\n",
        "        features['Day'],#\n",
        "        features['Month'],#\n",
        "        features['Year'],#\n",
        "        features['Price']\n",
        "    ]\n",
        "\n",
        "    categorical_features = [\n",
        "        features['Produce_Variety'],#\n",
        "        features['Commodity_Type'],#\n",
        "        features['Unit']#\n",
        "    ]\n",
        "\n",
        "    # One-hot encode categorical features\n",
        "    encoder = OneHotEncoder(handle_unknown='ignore')\n",
        "    encoded_categorical = encoder.fit_transform([categorical_features]).toarray()\n",
        "\n",
        "    # Combine numerical and encoded categorical features\n",
        "    my_data = np.concatenate((numerical_features, encoded_categorical.flatten()))\n",
        "\n",
        "    # Reshape the input data to a 2D array\n",
        "    input_data = np.array(my_data).reshape(1, -1)\n",
        "    return input_data"
      ],
      "metadata": {
        "id": "IqJ-7EbiMTG2"
      },
      "execution_count": 4,
      "outputs": []
    },
    {
      "cell_type": "code",
      "source": [
        "from flask import Flask, request, jsonify, render_template_string\n",
        "from pyngrok import ngrok\n",
        "import joblib\n",
        "\n",
        "app = Flask(__name__)\n",
        "\n",
        "# HTML template for the input form\n",
        "html_form = '''\n",
        "<!DOCTYPE html>\n",
        "<html>\n",
        "<body>\n",
        "    <h2>Agricultural Market Price Predictor</h2>\n",
        "    <p>Enter the required information below:</p>\n",
        "    <hr>\n",
        "    <p>Note: All fields are required.</p>\n",
        "\n",
        "    <hr>\n",
        "    <form action=\"/predict\" method=\"post\">\n",
        "        Produce Variety (E.g: Horticulture): <input type=\"text\" name=\"Produce_Variety\"><br>\n",
        "        <br>\n",
        "        Commodity Type (E.g: Cabbage): <input type=\"text\" name=\"Commodity_Type\"><br>\n",
        "        <br>\n",
        "        Unit (E.g: Ext. Box): <input type=\"text\" name=\"Unit\"><br>\n",
        "        <br>\n",
        "        Date (DD/MM/YYYY): <input type=\"text\" name=\"Date\"><br>\n",
        "        <br>\n",
        "        Package Weight in Kg (E.g: 120): <input type=\"number\" name=\"package_weight(Kg)\"><br>\n",
        "        <br>\n",
        "        Total Price of Commodities in Ksh (E.g: 2205): <input type=\"number\" name=\"Price\"><br>\n",
        "        <br>\n",
        "        <br>\n",
        "        <br>\n",
        "        <input type=\"submit\" value=\"Predict\">\n",
        "    </form>\n",
        "</body>\n",
        "</html>\n",
        "'''\n",
        "\n",
        "@app.route('/')\n",
        "def home():\n",
        "    return render_template_string(html_form)\n",
        "\n",
        "@app.route('/predict', methods=['POST'])\n",
        "def predict():\n",
        "  try:\n",
        "    # Get the form data\n",
        "    feature_values = request.form.to_dict()\n",
        "    # load the trained model joblib file\n",
        "    with open('base_model.sav', 'rb') as file:\n",
        "      model = joblib.load(file)\n",
        "\n",
        "    # Convert numeric fields\n",
        "    numeric_fields = ['package_weight(Kg)', 'Price']\n",
        "    for key in numeric_fields:\n",
        "      feature_values[key] = float(feature_values[key])\n",
        "\n",
        "    # Convert categorical fields\n",
        "    categorical = ['Produce_Variety', 'Commodity_Type', 'Unit']\n",
        "    for key in categorical:\n",
        "        feature_values[key] = str(feature_values[key])\n",
        "\n",
        "    # Convert the input date to a Unix timestamp\n",
        "    date_obj = datetime.strptime(feature_values['Date'], '%d/%m/%Y')\n",
        "    feature_values['Day'] = date_obj.day\n",
        "    feature_values['Month'] = date_obj.month\n",
        "    feature_values['Year'] = date_obj.year\n",
        "    feature_values.pop('Date')\n",
        "\n",
        "    input_data = user_input_transformer(feature_values)\n",
        "\n",
        "    scaler_X = StandardScaler()\n",
        "    input_data = scaler_X.fit_transform(input_data.reshape(1, -1))\n",
        "    predicted_price = model.predict(input_data)\n",
        "\n",
        "    return f\"Predicted Price: {predicted_price[0]:.2f}\"\n",
        "\n",
        "  except Exception as e:\n",
        "    return f\"Error: {str(e)}\",500\n",
        "# Set up ngrok\n",
        "public_url = ngrok.connect(5000)\n",
        "print(f\" * ngrok tunnel \\\"{public_url}\\\" -> \\\"http://127.0.0.1:5000/\\\"\")\n",
        "\n",
        "if __name__ == '__main__':\n",
        "    app.run()"
      ],
      "metadata": {
        "colab": {
          "base_uri": "https://localhost:8080/"
        },
        "id": "fblahXox0D6A",
        "outputId": "0bc08684-279b-4361-d0c9-7f10e6f91c1d"
      },
      "execution_count": 6,
      "outputs": [
        {
          "output_type": "stream",
          "name": "stdout",
          "text": [
            " * ngrok tunnel \"NgrokTunnel: \"https://500e-35-203-133-67.ngrok-free.app\" -> \"http://localhost:5000\"\" -> \"http://127.0.0.1:5000/\"\n",
            " * Serving Flask app '__main__'\n",
            " * Debug mode: off\n"
          ]
        },
        {
          "output_type": "stream",
          "name": "stderr",
          "text": [
            "INFO:werkzeug:\u001b[31m\u001b[1mWARNING: This is a development server. Do not use it in a production deployment. Use a production WSGI server instead.\u001b[0m\n",
            " * Running on http://127.0.0.1:5000\n",
            "INFO:werkzeug:\u001b[33mPress CTRL+C to quit\u001b[0m\n",
            "INFO:werkzeug:127.0.0.1 - - [05/Aug/2024 21:23:02] \"GET / HTTP/1.1\" 200 -\n",
            "INFO:werkzeug:127.0.0.1 - - [05/Aug/2024 21:23:02] \"\u001b[33mGET /favicon.ico HTTP/1.1\u001b[0m\" 404 -\n",
            "/usr/local/lib/python3.10/dist-packages/sklearn/base.py:348: InconsistentVersionWarning: Trying to unpickle estimator DecisionTreeRegressor from version 1.5.1 when using version 1.3.2. This might lead to breaking code or invalid results. Use at your own risk. For more info please refer to:\n",
            "https://scikit-learn.org/stable/model_persistence.html#security-maintainability-limitations\n",
            "  warnings.warn(\n",
            "/usr/local/lib/python3.10/dist-packages/sklearn/base.py:348: InconsistentVersionWarning: Trying to unpickle estimator RandomForestRegressor from version 1.5.1 when using version 1.3.2. This might lead to breaking code or invalid results. Use at your own risk. For more info please refer to:\n",
            "https://scikit-learn.org/stable/model_persistence.html#security-maintainability-limitations\n",
            "  warnings.warn(\n",
            "INFO:werkzeug:127.0.0.1 - - [05/Aug/2024 21:23:23] \"\u001b[35m\u001b[1mPOST /predict HTTP/1.1\u001b[0m\" 500 -\n"
          ]
        }
      ]
    },
    {
      "cell_type": "code",
      "source": [],
      "metadata": {
        "id": "oRZDS8TCaPIO"
      },
      "execution_count": null,
      "outputs": []
    }
  ]
}